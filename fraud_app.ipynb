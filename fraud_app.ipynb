{
 "cells": [
  {
   "cell_type": "code",
   "execution_count": 5,
   "id": "983da2d2-b24a-47fe-8643-04b4381f4275",
   "metadata": {},
   "outputs": [],
   "source": [
    "import streamlit as st\n",
    "import joblib\n",
    "import numpy as np\n",
    "\n",
    "# Load the trained XGBoost model\n",
    "@st.cache_resource\n",
    "def load_model():\n",
    "    try:\n",
    "        return joblib.load(\"fraud_detection_model.pkl\")\n",
    "    except Exception as e:\n",
    "        st.error(f\"⚠️ Error loading model: {str(e)}\")\n",
    "        return None\n",
    "\n",
    "model = load_model()\n",
    "\n",
    "# Streamlit UI\n",
    "st.title(\"🚀 Bank Loan Fraud Detection using XGBoost\")\n",
    "st.write(\"Enter loan details to predict if it's fraudulent or not.\")\n",
    "\n",
    "# Input fields\n",
    "amount = st.number_input(\"Transaction Amount\", min_value=0.0, step=0.01, format=\"%.2f\")\n",
    "oldbalanceOrg = st.number_input(\"Original Balance Before Transaction\", min_value=0.0, step=0.01, format=\"%.2f\")\n",
    "newbalanceOrig = st.number_input(\"New Balance After Transaction\", min_value=0.0, step=0.01, format=\"%.2f\")\n",
    "transaction_type = st.selectbox(\"Transaction Type\", [\"CASH_OUT\", \"TRANSFER\"])\n",
    "\n",
    "# Convert transaction type to numerical\n",
    "type_mapping = {\"CASH_OUT\": 1, \"TRANSFER\": 2}\n",
    "type_encoded = type_mapping.get(transaction_type, 0)\n",
    "\n",
    "# Ensure model is loaded before making predictions\n",
    "if model and st.button(\"Predict Fraud\"):\n",
    "    try:\n",
    "        # Convert input to correct format\n",
    "        input_data = np.array([[amount, oldbalanceOrg, newbalanceOrig, type_encoded]])\n",
    "        \n",
    "        # Make prediction\n",
    "        prediction = model.predict(input_data)\n",
    "        \n",
    "        # Convert output to binary (0 = Legit, 1 = Fraud)\n",
    "        fraud_prediction = int(prediction[0])\n",
    "\n",
    "        if fraud_prediction == 1:\n",
    "            st.error(\"🚨 Fraudulent Loan Transaction Detected!\")\n",
    "        else:\n",
    "            st.success(\"✅ Transaction is Legitimate.\")\n",
    "    except Exception as e:\n",
    "        st.error(f\"⚠️ Error during prediction: {str(e)}\")"
   ]
  },
  {
   "cell_type": "code",
   "execution_count": null,
   "id": "faf69277-8dfd-47cd-b653-8ee98165b0a9",
   "metadata": {},
   "outputs": [],
   "source": []
  }
 ],
 "metadata": {
  "kernelspec": {
   "display_name": "Python [conda env:base] *",
   "language": "python",
   "name": "conda-base-py"
  },
  "language_info": {
   "codemirror_mode": {
    "name": "ipython",
    "version": 3
   },
   "file_extension": ".py",
   "mimetype": "text/x-python",
   "name": "python",
   "nbconvert_exporter": "python",
   "pygments_lexer": "ipython3",
   "version": "3.12.7"
  }
 },
 "nbformat": 4,
 "nbformat_minor": 5
}
